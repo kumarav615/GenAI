{
 "cells": [
  {
   "cell_type": "markdown",
   "id": "01d48e11-a093-4278-bf9b-ff3221dccddd",
   "metadata": {},
   "source": [
    "### HTML"
   ]
  },
  {
   "cell_type": "code",
   "execution_count": 3,
   "id": "7fa07591-108b-44cb-aafd-505358753782",
   "metadata": {},
   "outputs": [
    {
     "name": "stdout",
     "output_type": "stream",
     "text": [
      "Collecting unstructured\n",
      "  Downloading unstructured-0.11.6-py3-none-any.whl (1.8 MB)\n",
      "Collecting lxml\n",
      "  Downloading lxml-4.9.4-cp310-cp310-win_amd64.whl (3.8 MB)\n",
      "Collecting chardet\n",
      "  Downloading chardet-5.2.0-py3-none-any.whl (199 kB)\n",
      "Requirement already satisfied: wrapt in c:\\users\\owner\\appdata\\local\\programs\\python\\python310\\lib\\site-packages (from unstructured) (1.16.0)\n",
      "Requirement already satisfied: backoff in c:\\users\\owner\\appdata\\local\\programs\\python\\python310\\lib\\site-packages (from unstructured) (2.2.1)\n",
      "Collecting filetype\n",
      "  Downloading filetype-1.2.0-py2.py3-none-any.whl (19 kB)\n",
      "Collecting nltk\n",
      "  Using cached nltk-3.8.1-py3-none-any.whl (1.5 MB)\n",
      "Requirement already satisfied: beautifulsoup4 in c:\\users\\owner\\appdata\\local\\programs\\python\\python310\\lib\\site-packages (from unstructured) (4.12.2)\n",
      "Collecting emoji\n",
      "  Downloading emoji-2.9.0-py2.py3-none-any.whl (397 kB)\n",
      "Collecting tabulate\n",
      "  Downloading tabulate-0.9.0-py3-none-any.whl (35 kB)\n",
      "Collecting python-iso639\n",
      "  Downloading python_iso639-2023.12.11-py3-none-any.whl (275 kB)\n",
      "Collecting rapidfuzz\n",
      "  Downloading rapidfuzz-3.6.0-cp310-cp310-win_amd64.whl (1.6 MB)\n",
      "Requirement already satisfied: typing-extensions in c:\\users\\owner\\appdata\\local\\programs\\python\\python310\\lib\\site-packages (from unstructured) (4.9.0)\n",
      "Collecting langdetect\n",
      "  Downloading langdetect-1.0.9.tar.gz (981 kB)\n",
      "Requirement already satisfied: dataclasses-json in c:\\users\\owner\\appdata\\local\\programs\\python\\python310\\lib\\site-packages (from unstructured) (0.6.3)\n",
      "Collecting unstructured-client\n",
      "  Downloading unstructured_client-0.15.1-py3-none-any.whl (20 kB)\n",
      "Collecting python-magic\n",
      "  Downloading python_magic-0.4.27-py2.py3-none-any.whl (13 kB)\n",
      "Requirement already satisfied: requests in c:\\users\\owner\\appdata\\local\\programs\\python\\python310\\lib\\site-packages (from unstructured) (2.31.0)\n",
      "Requirement already satisfied: numpy in c:\\users\\owner\\appdata\\local\\programs\\python\\python310\\lib\\site-packages (from unstructured) (1.26.2)\n",
      "Requirement already satisfied: soupsieve>1.2 in c:\\users\\owner\\appdata\\local\\programs\\python\\python310\\lib\\site-packages (from beautifulsoup4->unstructured) (2.5)\n",
      "Requirement already satisfied: marshmallow<4.0.0,>=3.18.0 in c:\\users\\owner\\appdata\\local\\programs\\python\\python310\\lib\\site-packages (from dataclasses-json->unstructured) (3.20.1)\n",
      "Requirement already satisfied: typing-inspect<1,>=0.4.0 in c:\\users\\owner\\appdata\\local\\programs\\python\\python310\\lib\\site-packages (from dataclasses-json->unstructured) (0.9.0)\n",
      "Requirement already satisfied: packaging>=17.0 in c:\\users\\owner\\appdata\\local\\programs\\python\\python310\\lib\\site-packages (from marshmallow<4.0.0,>=3.18.0->dataclasses-json->unstructured) (23.2)\n",
      "Requirement already satisfied: mypy-extensions>=0.3.0 in c:\\users\\owner\\appdata\\local\\programs\\python\\python310\\lib\\site-packages (from typing-inspect<1,>=0.4.0->dataclasses-json->unstructured) (1.0.0)\n",
      "Requirement already satisfied: six in c:\\users\\owner\\appdata\\local\\programs\\python\\python310\\lib\\site-packages (from langdetect->unstructured) (1.16.0)\n",
      "Collecting joblib\n",
      "  Using cached joblib-1.3.2-py3-none-any.whl (302 kB)\n",
      "Requirement already satisfied: click in c:\\users\\owner\\appdata\\local\\programs\\python\\python310\\lib\\site-packages (from nltk->unstructured) (8.1.7)\n",
      "Requirement already satisfied: regex>=2021.8.3 in c:\\users\\owner\\appdata\\local\\programs\\python\\python310\\lib\\site-packages (from nltk->unstructured) (2023.10.3)\n",
      "Requirement already satisfied: tqdm in c:\\users\\owner\\appdata\\local\\programs\\python\\python310\\lib\\site-packages (from nltk->unstructured) (4.66.1)\n",
      "Requirement already satisfied: colorama in c:\\users\\owner\\appdata\\local\\programs\\python\\python310\\lib\\site-packages (from click->nltk->unstructured) (0.4.6)\n",
      "Requirement already satisfied: certifi>=2017.4.17 in c:\\users\\owner\\appdata\\local\\programs\\python\\python310\\lib\\site-packages (from requests->unstructured) (2023.11.17)\n",
      "Requirement already satisfied: urllib3<3,>=1.21.1 in c:\\users\\owner\\appdata\\local\\programs\\python\\python310\\lib\\site-packages (from requests->unstructured) (1.26.18)\n",
      "Requirement already satisfied: charset-normalizer<4,>=2 in c:\\users\\owner\\appdata\\local\\programs\\python\\python310\\lib\\site-packages (from requests->unstructured) (3.3.2)\n",
      "Requirement already satisfied: idna<4,>=2.5 in c:\\users\\owner\\appdata\\local\\programs\\python\\python310\\lib\\site-packages (from requests->unstructured) (3.6)\n",
      "Requirement already satisfied: python-dateutil>=2.8.2 in c:\\users\\owner\\appdata\\local\\programs\\python\\python310\\lib\\site-packages (from unstructured-client->unstructured) (2.8.2)\n",
      "Collecting jsonpath-python>=1.0.6\n",
      "  Downloading jsonpath_python-1.0.6-py3-none-any.whl (7.6 kB)\n",
      "Using legacy 'setup.py install' for langdetect, since package 'wheel' is not installed.\n",
      "Installing collected packages: jsonpath-python, joblib, unstructured-client, tabulate, rapidfuzz, python-magic, python-iso639, nltk, lxml, langdetect, filetype, emoji, chardet, unstructured\n",
      "    Running setup.py install for langdetect: started\n",
      "    Running setup.py install for langdetect: finished with status 'done'\n",
      "Successfully installed chardet-5.2.0 emoji-2.9.0 filetype-1.2.0 joblib-1.3.2 jsonpath-python-1.0.6 langdetect-1.0.9 lxml-4.9.4 nltk-3.8.1 python-iso639-2023.12.11 python-magic-0.4.27 rapidfuzz-3.6.0 tabulate-0.9.0 unstructured-0.11.6 unstructured-client-0.15.1\n"
     ]
    },
    {
     "name": "stderr",
     "output_type": "stream",
     "text": [
      "WARNING: You are using pip version 21.2.3; however, version 23.3.2 is available.\n",
      "You should consider upgrading via the 'C:\\Users\\Owner\\AppData\\Local\\Programs\\Python\\Python310\\python.exe -m pip install --upgrade pip' command.\n"
     ]
    }
   ],
   "source": [
    "!pip install unstructured"
   ]
  },
  {
   "cell_type": "code",
   "execution_count": 4,
   "id": "898ed816-e8d5-423b-b8bf-422ed460570a",
   "metadata": {},
   "outputs": [],
   "source": [
    "from langchain.document_loaders import UnstructuredHTMLLoader"
   ]
  },
  {
   "cell_type": "code",
   "execution_count": 5,
   "id": "e484e167-9710-4068-8a2c-efa1cf6313c0",
   "metadata": {},
   "outputs": [],
   "source": [
    "loader = UnstructuredHTMLLoader('C:/Users/Owner/GenAI/LCEL/data/fake-content.html')"
   ]
  },
  {
   "cell_type": "code",
   "execution_count": 6,
   "id": "6fd2b6fd-0700-48a1-80ea-89cdaef68662",
   "metadata": {},
   "outputs": [],
   "source": [
    "data = loader.load()"
   ]
  },
  {
   "cell_type": "code",
   "execution_count": 7,
   "id": "bf5fb57e-754f-4300-869e-015a59ea5a32",
   "metadata": {},
   "outputs": [
    {
     "data": {
      "text/plain": [
       "[Document(page_content='My First Heading\\n\\nMy first paragraph.', metadata={'source': 'C:/Users/Owner/GenAI/LCEL/data/fake-content.html'})]"
      ]
     },
     "execution_count": 7,
     "metadata": {},
     "output_type": "execute_result"
    }
   ],
   "source": [
    "data"
   ]
  },
  {
   "cell_type": "markdown",
   "id": "71ff5533-d327-449e-8ece-92a4c4e17d83",
   "metadata": {},
   "source": [
    "## Loading HTML with BeautifulSoup4"
   ]
  },
  {
   "cell_type": "code",
   "execution_count": 8,
   "id": "1d6d5c7d-b182-4b25-acdf-3cd6468fcf12",
   "metadata": {},
   "outputs": [],
   "source": [
    "from langchain.document_loaders import BSHTMLLoader"
   ]
  },
  {
   "cell_type": "code",
   "execution_count": 9,
   "id": "adbc5727-9112-4fef-840e-b0faddb43b6a",
   "metadata": {},
   "outputs": [],
   "source": [
    "loader = BSHTMLLoader('C:/Users/Owner/GenAI/LCEL/data/fake-content.html')"
   ]
  },
  {
   "cell_type": "code",
   "execution_count": 10,
   "id": "965d498a-825d-4604-b4a6-57171d8b5921",
   "metadata": {},
   "outputs": [
    {
     "data": {
      "text/plain": [
       "[Document(page_content='\\nTest Title\\n\\n\\nMy First Heading\\nMy first paragraph.\\n\\n\\n', metadata={'source': 'C:/Users/Owner/GenAI/LCEL/data/fake-content.html', 'title': 'Test Title'})]"
      ]
     },
     "execution_count": 10,
     "metadata": {},
     "output_type": "execute_result"
    }
   ],
   "source": [
    "data = loader.load()\n",
    "data"
   ]
  },
  {
   "cell_type": "code",
   "execution_count": null,
   "id": "bff72712-efc8-454a-bc3b-9887e0fb2854",
   "metadata": {},
   "outputs": [],
   "source": []
  }
 ],
 "metadata": {
  "kernelspec": {
   "display_name": "Python 3 (ipykernel)",
   "language": "python",
   "name": "python3"
  },
  "language_info": {
   "codemirror_mode": {
    "name": "ipython",
    "version": 3
   },
   "file_extension": ".py",
   "mimetype": "text/x-python",
   "name": "python",
   "nbconvert_exporter": "python",
   "pygments_lexer": "ipython3",
   "version": "3.10.0"
  }
 },
 "nbformat": 4,
 "nbformat_minor": 5
}
