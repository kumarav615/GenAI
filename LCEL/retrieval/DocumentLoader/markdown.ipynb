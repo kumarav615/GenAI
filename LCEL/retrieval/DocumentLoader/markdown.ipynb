{
 "cells": [
  {
   "cell_type": "markdown",
   "id": "8ce29c1e-7924-46a6-b9f1-b122747ea993",
   "metadata": {},
   "source": [
    "### Markdown\n",
    "## Markdown is a lightweight markup language for creating formatted text using a plain-text editor."
   ]
  },
  {
   "cell_type": "code",
   "execution_count": 2,
   "id": "f2b0e9d7-37c1-4c1e-8987-43ba233aa4f6",
   "metadata": {},
   "outputs": [],
   "source": [
    "!pip install unstructured > \\\\.\\NUL"
   ]
  },
  {
   "cell_type": "code",
   "execution_count": 7,
   "id": "927cac72-baff-40bc-bde3-8cda6a1f786e",
   "metadata": {},
   "outputs": [
    {
     "name": "stdout",
     "output_type": "stream",
     "text": [
      "Collecting markdown\n",
      "  Downloading Markdown-3.5.1-py3-none-any.whl.metadata (7.1 kB)\n",
      "Downloading Markdown-3.5.1-py3-none-any.whl (102 kB)\n",
      "   ---------------------------------------- 0.0/102.2 kB ? eta -:--:--\n",
      "   ---------------------------------------- 102.2/102.2 kB 3.0 MB/s eta 0:00:00\n",
      "Installing collected packages: markdown\n",
      "Successfully installed markdown-3.5.1\n"
     ]
    }
   ],
   "source": [
    "!pip install markdown"
   ]
  },
  {
   "cell_type": "code",
   "execution_count": 8,
   "id": "2d8d6180-09a6-476f-818d-b8345a87c058",
   "metadata": {},
   "outputs": [],
   "source": [
    "from langchain.document_loaders import UnstructuredMarkdownLoader"
   ]
  },
  {
   "cell_type": "code",
   "execution_count": 9,
   "id": "b75229d6-eeda-4dea-b679-a789d64d0b6c",
   "metadata": {},
   "outputs": [],
   "source": [
    "markdown_path = \"C:/Users/Owner/GenAI/LCEL/data/README.md\"\n",
    "loader = UnstructuredMarkdownLoader(markdown_path)"
   ]
  },
  {
   "cell_type": "code",
   "execution_count": 10,
   "id": "739e1144-05da-41c7-818c-ec0708f380f1",
   "metadata": {},
   "outputs": [
    {
     "data": {
      "text/plain": [
       "[Document(page_content=\"🦜️🔗 LangChain\\n\\n⚡ Building applications with LLMs through composability ⚡\\n\\nLooking for the JS/TS library? Check out LangChain.js.\\n\\nTo help you ship LangChain apps to production faster, check out LangSmith. \\nLangSmith is a unified developer platform for building, testing, and monitoring LLM applications. \\nFill out this form to get off the waitlist or speak with our sales team.\\n\\nQuick Install\\n\\nWith pip:\\nbash\\npip install langchain\\n\\nWith conda:\\nbash\\nconda install langchain -c conda-forge\\n\\n🤔 What is LangChain?\\n\\nLangChain is a framework for developing applications powered by language models. It enables applications that:\\n- Are context-aware: connect a language model to sources of context (prompt instructions, few shot examples, content to ground its response in, etc.)\\n- Reason: rely on a language model to reason (about how to answer based on provided context, what actions to take, etc.)\\n\\nThis framework consists of several parts.\\n- LangChain Libraries: The Python and JavaScript libraries. Contains interfaces and integrations for a myriad of components, a basic run time for combining these components into chains and agents, and off-the-shelf implementations of chains and agents.\\n- LangChain Templates: A collection of easily deployable reference architectures for a wide variety of tasks.\\n- LangServe: A library for deploying LangChain chains as a REST API.\\n- LangSmith: A developer platform that lets you debug, test, evaluate, and monitor chains built on any LLM framework and seamlessly integrates with LangChain.\\n\\nThe LangChain libraries themselves are made up of several different packages.\\n- langchain-core: Base abstractions and LangChain Expression Language.\\n- langchain-community: Third party integrations.\\n- langchain: Chains, agents, and retrieval strategies that make up an application's cognitive architecture.\\n\\n🧱 What can you build with LangChain?\\n\\n❓ Retrieval augmented generation\\n\\nDocumentation\\n\\nEnd-to-end Example: Chat LangChain and repo\\n\\n💬 Analyzing structured data\\n\\nDocumentation\\n\\nEnd-to-end Example: SQL Llama2 Template\\n\\n🤖 Chatbots\\n\\nDocumentation\\n\\nEnd-to-end Example: Web LangChain (web researcher chatbot) and repo\\n\\nAnd much more! Head to the Use cases section of the docs for more.\\n\\n🚀 How does LangChain help?\\n\\nThe main value props of the LangChain libraries are:\\n1. Components: composable tools and integrations for working with language models. Components are modular and easy-to-use, whether you are using the rest of the LangChain framework or not\\n2. Off-the-shelf chains: built-in assemblages of components for accomplishing higher-level tasks\\n\\nOff-the-shelf chains make it easy to get started. Components make it easy to customize existing chains and build new ones.\\n\\nComponents fall into the following modules:\\n\\n📃 Model I/O:\\n\\nThis includes prompt management, prompt optimization, a generic interface for all LLMs, and common utilities for working with LLMs.\\n\\n📚 Retrieval:\\n\\nData Augmented Generation involves specific types of chains that first interact with an external data source to fetch data for use in the generation step. Examples include summarization of long pieces of text and question/answering over specific data sources.\\n\\n🤖 Agents:\\n\\nAgents involve an LLM making decisions about which Actions to take, taking that Action, seeing an Observation, and repeating that until done. LangChain provides a standard interface for agents, a selection of agents to choose from, and examples of end-to-end agents.\\n\\n📖 Documentation\\n\\nPlease see here for full documentation, which includes:\\n\\nGetting started: installation, setting up the environment, simple examples\\n\\nOverview of the interfaces, modules, and integrations\\n\\nUse case walkthroughs and best practice guides\\n\\nLangSmith, LangServe, and LangChain Template overviews\\n\\nReference: full API docs\\n\\n💁 Contributing\\n\\nAs an open-source project in a rapidly developing field, we are extremely open to contributions, whether it be in the form of a new feature, improved infrastructure, or better documentation.\\n\\nFor detailed information on how to contribute, see here.\\n\\n🌟 Contributors\", metadata={'source': 'C:/Users/Owner/GenAI/LCEL/data/README.md'})]"
      ]
     },
     "execution_count": 10,
     "metadata": {},
     "output_type": "execute_result"
    }
   ],
   "source": [
    "data = loader.load()\n",
    "data"
   ]
  },
  {
   "cell_type": "code",
   "execution_count": 11,
   "id": "4faf8215-866d-45aa-849c-2450d1eb6999",
   "metadata": {},
   "outputs": [],
   "source": [
    "loader = UnstructuredMarkdownLoader(markdown_path, mode=\"elements\")"
   ]
  },
  {
   "cell_type": "code",
   "execution_count": 12,
   "id": "95160995-221c-49f9-99ef-ee902f12ca03",
   "metadata": {},
   "outputs": [],
   "source": [
    "data = loader.load()"
   ]
  },
  {
   "cell_type": "code",
   "execution_count": 13,
   "id": "9444fd0f-edf4-41d4-9d22-3e03211254d2",
   "metadata": {},
   "outputs": [
    {
     "data": {
      "text/plain": [
       "Document(page_content='🦜️🔗 LangChain', metadata={'source': 'C:/Users/Owner/GenAI/LCEL/data/README.md', 'last_modified': '2023-12-29T20:33:26', 'page_number': 1, 'languages': ['eng'], 'filetype': 'text/markdown', 'file_directory': 'C:/Users/Owner/GenAI/LCEL/data', 'filename': 'README.md', 'category': 'Title'})"
      ]
     },
     "execution_count": 13,
     "metadata": {},
     "output_type": "execute_result"
    }
   ],
   "source": [
    "data[0]"
   ]
  },
  {
   "cell_type": "code",
   "execution_count": null,
   "id": "a9491cdc-a6e1-471c-b262-f3abdcf7c2c9",
   "metadata": {},
   "outputs": [],
   "source": []
  }
 ],
 "metadata": {
  "kernelspec": {
   "display_name": "Python 3 (ipykernel)",
   "language": "python",
   "name": "python3"
  },
  "language_info": {
   "codemirror_mode": {
    "name": "ipython",
    "version": 3
   },
   "file_extension": ".py",
   "mimetype": "text/x-python",
   "name": "python",
   "nbconvert_exporter": "python",
   "pygments_lexer": "ipython3",
   "version": "3.10.0"
  }
 },
 "nbformat": 4,
 "nbformat_minor": 5
}
