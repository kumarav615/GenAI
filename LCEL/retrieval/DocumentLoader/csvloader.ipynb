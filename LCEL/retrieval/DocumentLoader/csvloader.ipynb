{
 "cells": [
  {
   "cell_type": "markdown",
   "id": "07b7aebe-91e5-49c4-b152-77794b70a279",
   "metadata": {},
   "source": [
    "### CSV\n",
    "## A comma-separated values (CSV) file is a delimited text file that uses a comma to separate values. Each line of the file is a data record. Each record consists of one or more fields, separated by commas."
   ]
  },
  {
   "cell_type": "code",
   "execution_count": 3,
   "id": "872e451e-afce-4554-9f2b-3cb7bf009b0a",
   "metadata": {},
   "outputs": [],
   "source": [
    "from langchain.document_loaders.csv_loader import CSVLoader"
   ]
  },
  {
   "cell_type": "code",
   "execution_count": 4,
   "id": "a36288d0-8f9f-43a5-ab98-c8961ac7a0f7",
   "metadata": {},
   "outputs": [],
   "source": [
    "loader = CSVLoader(file_path='C:/Users/Owner/GenAI/LCEL/data/mlb_teams_2012.csv')"
   ]
  },
  {
   "cell_type": "code",
   "execution_count": 5,
   "id": "e5035a67-1ea0-4a64-9792-2ed003fc86f2",
   "metadata": {},
   "outputs": [],
   "source": [
    "data = loader.load()"
   ]
  },
  {
   "cell_type": "code",
   "execution_count": 6,
   "id": "0c9c7d17-465d-443f-9a75-41f80d8bd404",
   "metadata": {},
   "outputs": [
    {
     "name": "stdout",
     "output_type": "stream",
     "text": [
      "[Document(page_content='Team: Nationals\\n\"Payroll (millions)\": 81.34\\n\"Wins\": 98', metadata={'source': 'C:/Users/Owner/GenAI/LCEL/data/mlb_teams_2012.csv', 'row': 0}), Document(page_content='Team: Reds\\n\"Payroll (millions)\": 82.20\\n\"Wins\": 97', metadata={'source': 'C:/Users/Owner/GenAI/LCEL/data/mlb_teams_2012.csv', 'row': 1}), Document(page_content='Team: Yankees\\n\"Payroll (millions)\": 197.96\\n\"Wins\": 95', metadata={'source': 'C:/Users/Owner/GenAI/LCEL/data/mlb_teams_2012.csv', 'row': 2}), Document(page_content='Team: Giants\\n\"Payroll (millions)\": 117.62\\n\"Wins\": 94', metadata={'source': 'C:/Users/Owner/GenAI/LCEL/data/mlb_teams_2012.csv', 'row': 3}), Document(page_content='Team: Braves\\n\"Payroll (millions)\": 83.31\\n\"Wins\": 94', metadata={'source': 'C:/Users/Owner/GenAI/LCEL/data/mlb_teams_2012.csv', 'row': 4}), Document(page_content='Team: Athletics\\n\"Payroll (millions)\": 55.37\\n\"Wins\": 94', metadata={'source': 'C:/Users/Owner/GenAI/LCEL/data/mlb_teams_2012.csv', 'row': 5}), Document(page_content='Team: Rangers\\n\"Payroll (millions)\": 120.51\\n\"Wins\": 93', metadata={'source': 'C:/Users/Owner/GenAI/LCEL/data/mlb_teams_2012.csv', 'row': 6}), Document(page_content='Team: Orioles\\n\"Payroll (millions)\": 81.43\\n\"Wins\": 93', metadata={'source': 'C:/Users/Owner/GenAI/LCEL/data/mlb_teams_2012.csv', 'row': 7}), Document(page_content='Team: Rays\\n\"Payroll (millions)\": 64.17\\n\"Wins\": 90', metadata={'source': 'C:/Users/Owner/GenAI/LCEL/data/mlb_teams_2012.csv', 'row': 8}), Document(page_content='Team: Angels\\n\"Payroll (millions)\": 154.49\\n\"Wins\": 89', metadata={'source': 'C:/Users/Owner/GenAI/LCEL/data/mlb_teams_2012.csv', 'row': 9}), Document(page_content='Team: Tigers\\n\"Payroll (millions)\": 132.30\\n\"Wins\": 88', metadata={'source': 'C:/Users/Owner/GenAI/LCEL/data/mlb_teams_2012.csv', 'row': 10}), Document(page_content='Team: Cardinals\\n\"Payroll (millions)\": 110.30\\n\"Wins\": 88', metadata={'source': 'C:/Users/Owner/GenAI/LCEL/data/mlb_teams_2012.csv', 'row': 11}), Document(page_content='Team: Dodgers\\n\"Payroll (millions)\": 95.14\\n\"Wins\": 86', metadata={'source': 'C:/Users/Owner/GenAI/LCEL/data/mlb_teams_2012.csv', 'row': 12}), Document(page_content='Team: White Sox\\n\"Payroll (millions)\": 96.92\\n\"Wins\": 85', metadata={'source': 'C:/Users/Owner/GenAI/LCEL/data/mlb_teams_2012.csv', 'row': 13}), Document(page_content='Team: Brewers\\n\"Payroll (millions)\": 97.65\\n\"Wins\": 83', metadata={'source': 'C:/Users/Owner/GenAI/LCEL/data/mlb_teams_2012.csv', 'row': 14}), Document(page_content='Team: Phillies\\n\"Payroll (millions)\": 174.54\\n\"Wins\": 81', metadata={'source': 'C:/Users/Owner/GenAI/LCEL/data/mlb_teams_2012.csv', 'row': 15}), Document(page_content='Team: Diamondbacks\\n\"Payroll (millions)\": 74.28\\n\"Wins\": 81', metadata={'source': 'C:/Users/Owner/GenAI/LCEL/data/mlb_teams_2012.csv', 'row': 16}), Document(page_content='Team: Pirates\\n\"Payroll (millions)\": 63.43\\n\"Wins\": 79', metadata={'source': 'C:/Users/Owner/GenAI/LCEL/data/mlb_teams_2012.csv', 'row': 17}), Document(page_content='Team: Padres\\n\"Payroll (millions)\": 55.24\\n\"Wins\": 76', metadata={'source': 'C:/Users/Owner/GenAI/LCEL/data/mlb_teams_2012.csv', 'row': 18}), Document(page_content='Team: Mariners\\n\"Payroll (millions)\": 81.97\\n\"Wins\": 75', metadata={'source': 'C:/Users/Owner/GenAI/LCEL/data/mlb_teams_2012.csv', 'row': 19}), Document(page_content='Team: Mets\\n\"Payroll (millions)\": 93.35\\n\"Wins\": 74', metadata={'source': 'C:/Users/Owner/GenAI/LCEL/data/mlb_teams_2012.csv', 'row': 20}), Document(page_content='Team: Blue Jays\\n\"Payroll (millions)\": 75.48\\n\"Wins\": 73', metadata={'source': 'C:/Users/Owner/GenAI/LCEL/data/mlb_teams_2012.csv', 'row': 21}), Document(page_content='Team: Royals\\n\"Payroll (millions)\": 60.91\\n\"Wins\": 72', metadata={'source': 'C:/Users/Owner/GenAI/LCEL/data/mlb_teams_2012.csv', 'row': 22}), Document(page_content='Team: Marlins\\n\"Payroll (millions)\": 118.07\\n\"Wins\": 69', metadata={'source': 'C:/Users/Owner/GenAI/LCEL/data/mlb_teams_2012.csv', 'row': 23}), Document(page_content='Team: Red Sox\\n\"Payroll (millions)\": 173.18\\n\"Wins\": 69', metadata={'source': 'C:/Users/Owner/GenAI/LCEL/data/mlb_teams_2012.csv', 'row': 24}), Document(page_content='Team: Indians\\n\"Payroll (millions)\": 78.43\\n\"Wins\": 68', metadata={'source': 'C:/Users/Owner/GenAI/LCEL/data/mlb_teams_2012.csv', 'row': 25}), Document(page_content='Team: Twins\\n\"Payroll (millions)\": 94.08\\n\"Wins\": 66', metadata={'source': 'C:/Users/Owner/GenAI/LCEL/data/mlb_teams_2012.csv', 'row': 26}), Document(page_content='Team: Rockies\\n\"Payroll (millions)\": 78.06\\n\"Wins\": 64', metadata={'source': 'C:/Users/Owner/GenAI/LCEL/data/mlb_teams_2012.csv', 'row': 27}), Document(page_content='Team: Cubs\\n\"Payroll (millions)\": 88.19\\n\"Wins\": 61', metadata={'source': 'C:/Users/Owner/GenAI/LCEL/data/mlb_teams_2012.csv', 'row': 28}), Document(page_content='Team: Astros\\n\"Payroll (millions)\": 60.65\\n\"Wins\": 55', metadata={'source': 'C:/Users/Owner/GenAI/LCEL/data/mlb_teams_2012.csv', 'row': 29})]\n"
     ]
    }
   ],
   "source": [
    "print(data)"
   ]
  },
  {
   "cell_type": "markdown",
   "id": "fc8f333e-4704-4e3b-8c6d-a45b4bc6fe70",
   "metadata": {},
   "source": [
    "## Customizing the CSV parsing and loading"
   ]
  },
  {
   "cell_type": "code",
   "execution_count": 9,
   "id": "2c402bac-2283-46a8-bc62-a699f0a0dc70",
   "metadata": {},
   "outputs": [],
   "source": [
    "loader = CSVLoader(file_path='C:/Users/Owner/GenAI/LCEL/data/mlb_teams_2012.csv', csv_args={\n",
    "    'delimiter': ',',\n",
    "    'quotechar': '\"',\n",
    "    'fieldnames': ['MLB Team', 'Payroll in millions', 'Wins']\n",
    "})"
   ]
  },
  {
   "cell_type": "code",
   "execution_count": 10,
   "id": "1a52cff8-1677-4a88-9618-daf2ce6e8222",
   "metadata": {},
   "outputs": [],
   "source": [
    "data = loader.load()"
   ]
  },
  {
   "cell_type": "code",
   "execution_count": 11,
   "id": "d5940af2-fb8c-42ee-858b-6b323b303e92",
   "metadata": {},
   "outputs": [
    {
     "name": "stdout",
     "output_type": "stream",
     "text": [
      "[Document(page_content='MLB Team: Team\\nPayroll in millions: \"Payroll (millions)\"\\nWins: \"Wins\"', metadata={'source': 'C:/Users/Owner/GenAI/LCEL/data/mlb_teams_2012.csv', 'row': 0}), Document(page_content='MLB Team: Nationals\\nPayroll in millions: 81.34\\nWins: 98', metadata={'source': 'C:/Users/Owner/GenAI/LCEL/data/mlb_teams_2012.csv', 'row': 1}), Document(page_content='MLB Team: Reds\\nPayroll in millions: 82.20\\nWins: 97', metadata={'source': 'C:/Users/Owner/GenAI/LCEL/data/mlb_teams_2012.csv', 'row': 2}), Document(page_content='MLB Team: Yankees\\nPayroll in millions: 197.96\\nWins: 95', metadata={'source': 'C:/Users/Owner/GenAI/LCEL/data/mlb_teams_2012.csv', 'row': 3}), Document(page_content='MLB Team: Giants\\nPayroll in millions: 117.62\\nWins: 94', metadata={'source': 'C:/Users/Owner/GenAI/LCEL/data/mlb_teams_2012.csv', 'row': 4}), Document(page_content='MLB Team: Braves\\nPayroll in millions: 83.31\\nWins: 94', metadata={'source': 'C:/Users/Owner/GenAI/LCEL/data/mlb_teams_2012.csv', 'row': 5}), Document(page_content='MLB Team: Athletics\\nPayroll in millions: 55.37\\nWins: 94', metadata={'source': 'C:/Users/Owner/GenAI/LCEL/data/mlb_teams_2012.csv', 'row': 6}), Document(page_content='MLB Team: Rangers\\nPayroll in millions: 120.51\\nWins: 93', metadata={'source': 'C:/Users/Owner/GenAI/LCEL/data/mlb_teams_2012.csv', 'row': 7}), Document(page_content='MLB Team: Orioles\\nPayroll in millions: 81.43\\nWins: 93', metadata={'source': 'C:/Users/Owner/GenAI/LCEL/data/mlb_teams_2012.csv', 'row': 8}), Document(page_content='MLB Team: Rays\\nPayroll in millions: 64.17\\nWins: 90', metadata={'source': 'C:/Users/Owner/GenAI/LCEL/data/mlb_teams_2012.csv', 'row': 9}), Document(page_content='MLB Team: Angels\\nPayroll in millions: 154.49\\nWins: 89', metadata={'source': 'C:/Users/Owner/GenAI/LCEL/data/mlb_teams_2012.csv', 'row': 10}), Document(page_content='MLB Team: Tigers\\nPayroll in millions: 132.30\\nWins: 88', metadata={'source': 'C:/Users/Owner/GenAI/LCEL/data/mlb_teams_2012.csv', 'row': 11}), Document(page_content='MLB Team: Cardinals\\nPayroll in millions: 110.30\\nWins: 88', metadata={'source': 'C:/Users/Owner/GenAI/LCEL/data/mlb_teams_2012.csv', 'row': 12}), Document(page_content='MLB Team: Dodgers\\nPayroll in millions: 95.14\\nWins: 86', metadata={'source': 'C:/Users/Owner/GenAI/LCEL/data/mlb_teams_2012.csv', 'row': 13}), Document(page_content='MLB Team: White Sox\\nPayroll in millions: 96.92\\nWins: 85', metadata={'source': 'C:/Users/Owner/GenAI/LCEL/data/mlb_teams_2012.csv', 'row': 14}), Document(page_content='MLB Team: Brewers\\nPayroll in millions: 97.65\\nWins: 83', metadata={'source': 'C:/Users/Owner/GenAI/LCEL/data/mlb_teams_2012.csv', 'row': 15}), Document(page_content='MLB Team: Phillies\\nPayroll in millions: 174.54\\nWins: 81', metadata={'source': 'C:/Users/Owner/GenAI/LCEL/data/mlb_teams_2012.csv', 'row': 16}), Document(page_content='MLB Team: Diamondbacks\\nPayroll in millions: 74.28\\nWins: 81', metadata={'source': 'C:/Users/Owner/GenAI/LCEL/data/mlb_teams_2012.csv', 'row': 17}), Document(page_content='MLB Team: Pirates\\nPayroll in millions: 63.43\\nWins: 79', metadata={'source': 'C:/Users/Owner/GenAI/LCEL/data/mlb_teams_2012.csv', 'row': 18}), Document(page_content='MLB Team: Padres\\nPayroll in millions: 55.24\\nWins: 76', metadata={'source': 'C:/Users/Owner/GenAI/LCEL/data/mlb_teams_2012.csv', 'row': 19}), Document(page_content='MLB Team: Mariners\\nPayroll in millions: 81.97\\nWins: 75', metadata={'source': 'C:/Users/Owner/GenAI/LCEL/data/mlb_teams_2012.csv', 'row': 20}), Document(page_content='MLB Team: Mets\\nPayroll in millions: 93.35\\nWins: 74', metadata={'source': 'C:/Users/Owner/GenAI/LCEL/data/mlb_teams_2012.csv', 'row': 21}), Document(page_content='MLB Team: Blue Jays\\nPayroll in millions: 75.48\\nWins: 73', metadata={'source': 'C:/Users/Owner/GenAI/LCEL/data/mlb_teams_2012.csv', 'row': 22}), Document(page_content='MLB Team: Royals\\nPayroll in millions: 60.91\\nWins: 72', metadata={'source': 'C:/Users/Owner/GenAI/LCEL/data/mlb_teams_2012.csv', 'row': 23}), Document(page_content='MLB Team: Marlins\\nPayroll in millions: 118.07\\nWins: 69', metadata={'source': 'C:/Users/Owner/GenAI/LCEL/data/mlb_teams_2012.csv', 'row': 24}), Document(page_content='MLB Team: Red Sox\\nPayroll in millions: 173.18\\nWins: 69', metadata={'source': 'C:/Users/Owner/GenAI/LCEL/data/mlb_teams_2012.csv', 'row': 25}), Document(page_content='MLB Team: Indians\\nPayroll in millions: 78.43\\nWins: 68', metadata={'source': 'C:/Users/Owner/GenAI/LCEL/data/mlb_teams_2012.csv', 'row': 26}), Document(page_content='MLB Team: Twins\\nPayroll in millions: 94.08\\nWins: 66', metadata={'source': 'C:/Users/Owner/GenAI/LCEL/data/mlb_teams_2012.csv', 'row': 27}), Document(page_content='MLB Team: Rockies\\nPayroll in millions: 78.06\\nWins: 64', metadata={'source': 'C:/Users/Owner/GenAI/LCEL/data/mlb_teams_2012.csv', 'row': 28}), Document(page_content='MLB Team: Cubs\\nPayroll in millions: 88.19\\nWins: 61', metadata={'source': 'C:/Users/Owner/GenAI/LCEL/data/mlb_teams_2012.csv', 'row': 29}), Document(page_content='MLB Team: Astros\\nPayroll in millions: 60.65\\nWins: 55', metadata={'source': 'C:/Users/Owner/GenAI/LCEL/data/mlb_teams_2012.csv', 'row': 30})]\n"
     ]
    }
   ],
   "source": [
    "print(data)"
   ]
  },
  {
   "cell_type": "markdown",
   "id": "e6fb0f55-6b56-4347-b060-d8a4eac54789",
   "metadata": {},
   "source": [
    "## Specify a column to identify the document source"
   ]
  },
  {
   "cell_type": "code",
   "execution_count": 12,
   "id": "bb763348-1548-40b1-88d9-c08db0624958",
   "metadata": {},
   "outputs": [],
   "source": [
    "loader = CSVLoader(file_path='C:/Users/Owner/GenAI/LCEL/data/mlb_teams_2012.csv', source_column=\"Team\")\n",
    "\n",
    "data = loader.load()"
   ]
  },
  {
   "cell_type": "code",
   "execution_count": 13,
   "id": "a1a854aa-c80d-457b-b563-ce9031a6f23f",
   "metadata": {},
   "outputs": [
    {
     "name": "stdout",
     "output_type": "stream",
     "text": [
      "[Document(page_content='Team: Nationals\\n\"Payroll (millions)\": 81.34\\n\"Wins\": 98', metadata={'source': 'Nationals', 'row': 0}), Document(page_content='Team: Reds\\n\"Payroll (millions)\": 82.20\\n\"Wins\": 97', metadata={'source': 'Reds', 'row': 1}), Document(page_content='Team: Yankees\\n\"Payroll (millions)\": 197.96\\n\"Wins\": 95', metadata={'source': 'Yankees', 'row': 2}), Document(page_content='Team: Giants\\n\"Payroll (millions)\": 117.62\\n\"Wins\": 94', metadata={'source': 'Giants', 'row': 3}), Document(page_content='Team: Braves\\n\"Payroll (millions)\": 83.31\\n\"Wins\": 94', metadata={'source': 'Braves', 'row': 4}), Document(page_content='Team: Athletics\\n\"Payroll (millions)\": 55.37\\n\"Wins\": 94', metadata={'source': 'Athletics', 'row': 5}), Document(page_content='Team: Rangers\\n\"Payroll (millions)\": 120.51\\n\"Wins\": 93', metadata={'source': 'Rangers', 'row': 6}), Document(page_content='Team: Orioles\\n\"Payroll (millions)\": 81.43\\n\"Wins\": 93', metadata={'source': 'Orioles', 'row': 7}), Document(page_content='Team: Rays\\n\"Payroll (millions)\": 64.17\\n\"Wins\": 90', metadata={'source': 'Rays', 'row': 8}), Document(page_content='Team: Angels\\n\"Payroll (millions)\": 154.49\\n\"Wins\": 89', metadata={'source': 'Angels', 'row': 9}), Document(page_content='Team: Tigers\\n\"Payroll (millions)\": 132.30\\n\"Wins\": 88', metadata={'source': 'Tigers', 'row': 10}), Document(page_content='Team: Cardinals\\n\"Payroll (millions)\": 110.30\\n\"Wins\": 88', metadata={'source': 'Cardinals', 'row': 11}), Document(page_content='Team: Dodgers\\n\"Payroll (millions)\": 95.14\\n\"Wins\": 86', metadata={'source': 'Dodgers', 'row': 12}), Document(page_content='Team: White Sox\\n\"Payroll (millions)\": 96.92\\n\"Wins\": 85', metadata={'source': 'White Sox', 'row': 13}), Document(page_content='Team: Brewers\\n\"Payroll (millions)\": 97.65\\n\"Wins\": 83', metadata={'source': 'Brewers', 'row': 14}), Document(page_content='Team: Phillies\\n\"Payroll (millions)\": 174.54\\n\"Wins\": 81', metadata={'source': 'Phillies', 'row': 15}), Document(page_content='Team: Diamondbacks\\n\"Payroll (millions)\": 74.28\\n\"Wins\": 81', metadata={'source': 'Diamondbacks', 'row': 16}), Document(page_content='Team: Pirates\\n\"Payroll (millions)\": 63.43\\n\"Wins\": 79', metadata={'source': 'Pirates', 'row': 17}), Document(page_content='Team: Padres\\n\"Payroll (millions)\": 55.24\\n\"Wins\": 76', metadata={'source': 'Padres', 'row': 18}), Document(page_content='Team: Mariners\\n\"Payroll (millions)\": 81.97\\n\"Wins\": 75', metadata={'source': 'Mariners', 'row': 19}), Document(page_content='Team: Mets\\n\"Payroll (millions)\": 93.35\\n\"Wins\": 74', metadata={'source': 'Mets', 'row': 20}), Document(page_content='Team: Blue Jays\\n\"Payroll (millions)\": 75.48\\n\"Wins\": 73', metadata={'source': 'Blue Jays', 'row': 21}), Document(page_content='Team: Royals\\n\"Payroll (millions)\": 60.91\\n\"Wins\": 72', metadata={'source': 'Royals', 'row': 22}), Document(page_content='Team: Marlins\\n\"Payroll (millions)\": 118.07\\n\"Wins\": 69', metadata={'source': 'Marlins', 'row': 23}), Document(page_content='Team: Red Sox\\n\"Payroll (millions)\": 173.18\\n\"Wins\": 69', metadata={'source': 'Red Sox', 'row': 24}), Document(page_content='Team: Indians\\n\"Payroll (millions)\": 78.43\\n\"Wins\": 68', metadata={'source': 'Indians', 'row': 25}), Document(page_content='Team: Twins\\n\"Payroll (millions)\": 94.08\\n\"Wins\": 66', metadata={'source': 'Twins', 'row': 26}), Document(page_content='Team: Rockies\\n\"Payroll (millions)\": 78.06\\n\"Wins\": 64', metadata={'source': 'Rockies', 'row': 27}), Document(page_content='Team: Cubs\\n\"Payroll (millions)\": 88.19\\n\"Wins\": 61', metadata={'source': 'Cubs', 'row': 28}), Document(page_content='Team: Astros\\n\"Payroll (millions)\": 60.65\\n\"Wins\": 55', metadata={'source': 'Astros', 'row': 29})]\n"
     ]
    }
   ],
   "source": [
    "print(data)"
   ]
  },
  {
   "cell_type": "code",
   "execution_count": null,
   "id": "c5ef5ee4-9935-4a71-a7cc-185f73180375",
   "metadata": {},
   "outputs": [],
   "source": []
  }
 ],
 "metadata": {
  "kernelspec": {
   "display_name": "Python 3 (ipykernel)",
   "language": "python",
   "name": "python3"
  },
  "language_info": {
   "codemirror_mode": {
    "name": "ipython",
    "version": 3
   },
   "file_extension": ".py",
   "mimetype": "text/x-python",
   "name": "python",
   "nbconvert_exporter": "python",
   "pygments_lexer": "ipython3",
   "version": "3.10.0"
  }
 },
 "nbformat": 4,
 "nbformat_minor": 5
}
