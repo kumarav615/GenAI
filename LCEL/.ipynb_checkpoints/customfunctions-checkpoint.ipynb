{
 "cells": [
  {
   "cell_type": "markdown",
   "id": "dcf81650-709f-4ae9-aca0-9325ec41a985",
   "metadata": {},
   "source": [
    "### SQL\n",
    "\n",
    "## LangChain offers SQL Chains and Agents to build and run SQL queries based on natural language prompts. \n",
    "## These are compatible with any SQL dialect supported by SQLAlchemy (e.g., MySQL, PostgreSQL, Oracle SQL, Databricks, SQLite).\n",
    "# Generating queries that will be run based on natural language questions\r",
    "# \n",
    "Creating chatbots that can answer questions based on database data# \r\n",
    "Building custom dashboards based on insights a user wants to analyze"
   ]
  }
 ],
 "metadata": {
  "kernelspec": {
   "display_name": "Python 3 (ipykernel)",
   "language": "python",
   "name": "python3"
  },
  "language_info": {
   "codemirror_mode": {
    "name": "ipython",
    "version": 3
   },
   "file_extension": ".py",
   "mimetype": "text/x-python",
   "name": "python",
   "nbconvert_exporter": "python",
   "pygments_lexer": "ipython3",
   "version": "3.10.0"
  }
 },
 "nbformat": 4,
 "nbformat_minor": 5
}
